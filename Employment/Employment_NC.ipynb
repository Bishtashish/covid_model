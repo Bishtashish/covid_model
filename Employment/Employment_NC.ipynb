{
 "cells": [
  {
   "cell_type": "markdown",
   "metadata": {},
   "source": [
    "Impact of COVID-19 on Education sector\n",
    "\n",
    "\n",
    "\n",
    "In this notebook, we have used Tables for COVID-19 Pandemic Impact on How Children Received Education in NC state from 'Household Pulse Survey Data Tables for 2020'"
   ]
  },
  {
   "cell_type": "markdown",
   "metadata": {},
   "source": [
    "Attribute Details:\n",
    "    \n",
    "    No of people who Experienced loss of employment income since March 13, 2020 (for self or household member)\n",
    "    No of people who Expected loss of employment income in next 4-weeks (for self or household member)\n",
    "    No of people who Did not report\n",
    "    No of Week\n",
    "    No of People who participated in the survey"
   ]
  },
  {
   "cell_type": "code",
   "execution_count": 17,
   "metadata": {},
   "outputs": [],
   "source": [
    "import pandas as pd\n",
    "import matplotlib.pyplot as plt\n",
    "import matplotlib.style as style"
   ]
  },
  {
   "cell_type": "code",
   "execution_count": 18,
   "metadata": {},
   "outputs": [],
   "source": [
    "df_employment = pd.read_csv('employment - Sheet1.csv', na_values='-')"
   ]
  },
  {
   "cell_type": "code",
   "execution_count": 19,
   "metadata": {},
   "outputs": [
    {
     "name": "stdout",
     "output_type": "stream",
     "text": [
      "<class 'pandas.core.frame.DataFrame'>\n",
      "RangeIndex: 18 entries, 0 to 17\n",
      "Data columns (total 5 columns):\n",
      " #   Column                                                                                     Non-Null Count  Dtype\n",
      "---  ------                                                                                     --------------  -----\n",
      " 0   Total                                                                                      18 non-null     int64\n",
      " 1   Experienced loss of employment income since March 13, 2020 (for self or household member)  18 non-null     int64\n",
      " 2   Expected loss of employment income in next 4-weeks (for self or household member)          18 non-null     int64\n",
      " 3   Did not report                                                                             18 non-null     int64\n",
      " 4   Week                                                                                       18 non-null     int64\n",
      "dtypes: int64(5)\n",
      "memory usage: 848.0 bytes\n"
     ]
    }
   ],
   "source": [
    "df_employment.info()"
   ]
  },
  {
   "cell_type": "code",
   "execution_count": 20,
   "metadata": {},
   "outputs": [
    {
     "data": {
      "text/plain": [
       "0     3558562\n",
       "1     3558562\n",
       "2     3721170\n",
       "3     3542592\n",
       "4     3598578\n",
       "5     3391807\n",
       "6     3390615\n",
       "7     3776077\n",
       "8     3520230\n",
       "9     3832842\n",
       "10    3412124\n",
       "11    3659128\n",
       "12    3330485\n",
       "13    3428685\n",
       "14    3244502\n",
       "15    3156707\n",
       "16    2908538\n",
       "17    3664999\n",
       "Name: Experienced loss of employment income since March 13, 2020 (for self or household member), dtype: int64"
      ]
     },
     "execution_count": 20,
     "metadata": {},
     "output_type": "execute_result"
    }
   ],
   "source": [
    "df_employment['Experienced loss of employment income since March 13, 2020 (for self or household member)']"
   ]
  },
  {
   "cell_type": "code",
   "execution_count": 23,
   "metadata": {},
   "outputs": [
    {
     "data": {
      "text/plain": [
       "0     2717504\n",
       "1     2717504\n",
       "2     2795510\n",
       "3     2413719\n",
       "4     2377693\n",
       "5     2164494\n",
       "6     1928585\n",
       "7     2408408\n",
       "8     2251883\n",
       "9     2516634\n",
       "10    2437449\n",
       "11    2315381\n",
       "12    1705260\n",
       "13    1705174\n",
       "14    1592133\n",
       "15    1539440\n",
       "16    1371932\n",
       "17    1798908\n",
       "Name: Expected loss of employment income in next 4-weeks (for self or household member), dtype: int64"
      ]
     },
     "execution_count": 23,
     "metadata": {},
     "output_type": "execute_result"
    }
   ],
   "source": [
    "df_employment['Expected loss of employment income in next 4-weeks (for self or household member)']"
   ]
  },
  {
   "cell_type": "code",
   "execution_count": 24,
   "metadata": {},
   "outputs": [
    {
     "data": {
      "text/plain": [
       "0      13893\n",
       "1      13893\n",
       "2      41670\n",
       "3      43402\n",
       "4      21630\n",
       "5     115018\n",
       "6      18178\n",
       "7      35592\n",
       "8      34614\n",
       "9      42395\n",
       "10     31248\n",
       "11     23566\n",
       "12     16248\n",
       "13     42591\n",
       "14     57802\n",
       "15     19430\n",
       "16     66018\n",
       "17      5528\n",
       "Name: Did not report, dtype: int64"
      ]
     },
     "execution_count": 24,
     "metadata": {},
     "output_type": "execute_result"
    }
   ],
   "source": [
    "df_employment['Did not report']"
   ]
  },
  {
   "cell_type": "code",
   "execution_count": 25,
   "metadata": {},
   "outputs": [
    {
     "data": {
      "text/html": [
       "<div>\n",
       "<style scoped>\n",
       "    .dataframe tbody tr th:only-of-type {\n",
       "        vertical-align: middle;\n",
       "    }\n",
       "\n",
       "    .dataframe tbody tr th {\n",
       "        vertical-align: top;\n",
       "    }\n",
       "\n",
       "    .dataframe thead th {\n",
       "        text-align: right;\n",
       "    }\n",
       "</style>\n",
       "<table border=\"1\" class=\"dataframe\">\n",
       "  <thead>\n",
       "    <tr style=\"text-align: right;\">\n",
       "      <th></th>\n",
       "      <th>Total</th>\n",
       "      <th>Experienced loss of employment income since March 13, 2020 (for self or household member)</th>\n",
       "      <th>Expected loss of employment income in next 4-weeks (for self or household member)</th>\n",
       "      <th>Did not report</th>\n",
       "      <th>Week</th>\n",
       "    </tr>\n",
       "  </thead>\n",
       "  <tbody>\n",
       "    <tr>\n",
       "      <th>0</th>\n",
       "      <td>8017566</td>\n",
       "      <td>3558562</td>\n",
       "      <td>2717504</td>\n",
       "      <td>13893</td>\n",
       "      <td>1</td>\n",
       "    </tr>\n",
       "    <tr>\n",
       "      <th>1</th>\n",
       "      <td>8017566</td>\n",
       "      <td>3558562</td>\n",
       "      <td>2717504</td>\n",
       "      <td>13893</td>\n",
       "      <td>2</td>\n",
       "    </tr>\n",
       "    <tr>\n",
       "      <th>2</th>\n",
       "      <td>8017566</td>\n",
       "      <td>3721170</td>\n",
       "      <td>2795510</td>\n",
       "      <td>41670</td>\n",
       "      <td>3</td>\n",
       "    </tr>\n",
       "    <tr>\n",
       "      <th>3</th>\n",
       "      <td>8017566</td>\n",
       "      <td>3542592</td>\n",
       "      <td>2413719</td>\n",
       "      <td>43402</td>\n",
       "      <td>4</td>\n",
       "    </tr>\n",
       "    <tr>\n",
       "      <th>4</th>\n",
       "      <td>8017566</td>\n",
       "      <td>3598578</td>\n",
       "      <td>2377693</td>\n",
       "      <td>21630</td>\n",
       "      <td>5</td>\n",
       "    </tr>\n",
       "    <tr>\n",
       "      <th>5</th>\n",
       "      <td>8017566</td>\n",
       "      <td>3391807</td>\n",
       "      <td>2164494</td>\n",
       "      <td>115018</td>\n",
       "      <td>6</td>\n",
       "    </tr>\n",
       "    <tr>\n",
       "      <th>6</th>\n",
       "      <td>8017566</td>\n",
       "      <td>3390615</td>\n",
       "      <td>1928585</td>\n",
       "      <td>18178</td>\n",
       "      <td>7</td>\n",
       "    </tr>\n",
       "    <tr>\n",
       "      <th>7</th>\n",
       "      <td>8017566</td>\n",
       "      <td>3776077</td>\n",
       "      <td>2408408</td>\n",
       "      <td>35592</td>\n",
       "      <td>8</td>\n",
       "    </tr>\n",
       "    <tr>\n",
       "      <th>8</th>\n",
       "      <td>8017566</td>\n",
       "      <td>3520230</td>\n",
       "      <td>2251883</td>\n",
       "      <td>34614</td>\n",
       "      <td>9</td>\n",
       "    </tr>\n",
       "    <tr>\n",
       "      <th>9</th>\n",
       "      <td>8017566</td>\n",
       "      <td>3832842</td>\n",
       "      <td>2516634</td>\n",
       "      <td>42395</td>\n",
       "      <td>10</td>\n",
       "    </tr>\n",
       "    <tr>\n",
       "      <th>10</th>\n",
       "      <td>8017566</td>\n",
       "      <td>3412124</td>\n",
       "      <td>2437449</td>\n",
       "      <td>31248</td>\n",
       "      <td>11</td>\n",
       "    </tr>\n",
       "    <tr>\n",
       "      <th>11</th>\n",
       "      <td>8017566</td>\n",
       "      <td>3659128</td>\n",
       "      <td>2315381</td>\n",
       "      <td>23566</td>\n",
       "      <td>12</td>\n",
       "    </tr>\n",
       "    <tr>\n",
       "      <th>12</th>\n",
       "      <td>8017566</td>\n",
       "      <td>3330485</td>\n",
       "      <td>1705260</td>\n",
       "      <td>16248</td>\n",
       "      <td>13</td>\n",
       "    </tr>\n",
       "    <tr>\n",
       "      <th>13</th>\n",
       "      <td>8017566</td>\n",
       "      <td>3428685</td>\n",
       "      <td>1705174</td>\n",
       "      <td>42591</td>\n",
       "      <td>14</td>\n",
       "    </tr>\n",
       "    <tr>\n",
       "      <th>14</th>\n",
       "      <td>8017566</td>\n",
       "      <td>3244502</td>\n",
       "      <td>1592133</td>\n",
       "      <td>57802</td>\n",
       "      <td>15</td>\n",
       "    </tr>\n",
       "    <tr>\n",
       "      <th>15</th>\n",
       "      <td>8017566</td>\n",
       "      <td>3156707</td>\n",
       "      <td>1539440</td>\n",
       "      <td>19430</td>\n",
       "      <td>16</td>\n",
       "    </tr>\n",
       "    <tr>\n",
       "      <th>16</th>\n",
       "      <td>8017566</td>\n",
       "      <td>2908538</td>\n",
       "      <td>1371932</td>\n",
       "      <td>66018</td>\n",
       "      <td>17</td>\n",
       "    </tr>\n",
       "    <tr>\n",
       "      <th>17</th>\n",
       "      <td>8017566</td>\n",
       "      <td>3664999</td>\n",
       "      <td>1798908</td>\n",
       "      <td>5528</td>\n",
       "      <td>18</td>\n",
       "    </tr>\n",
       "  </tbody>\n",
       "</table>\n",
       "</div>"
      ],
      "text/plain": [
       "      Total  \\\n",
       "0   8017566   \n",
       "1   8017566   \n",
       "2   8017566   \n",
       "3   8017566   \n",
       "4   8017566   \n",
       "5   8017566   \n",
       "6   8017566   \n",
       "7   8017566   \n",
       "8   8017566   \n",
       "9   8017566   \n",
       "10  8017566   \n",
       "11  8017566   \n",
       "12  8017566   \n",
       "13  8017566   \n",
       "14  8017566   \n",
       "15  8017566   \n",
       "16  8017566   \n",
       "17  8017566   \n",
       "\n",
       "    Experienced loss of employment income since March 13, 2020 (for self or household member)  \\\n",
       "0                                             3558562                                           \n",
       "1                                             3558562                                           \n",
       "2                                             3721170                                           \n",
       "3                                             3542592                                           \n",
       "4                                             3598578                                           \n",
       "5                                             3391807                                           \n",
       "6                                             3390615                                           \n",
       "7                                             3776077                                           \n",
       "8                                             3520230                                           \n",
       "9                                             3832842                                           \n",
       "10                                            3412124                                           \n",
       "11                                            3659128                                           \n",
       "12                                            3330485                                           \n",
       "13                                            3428685                                           \n",
       "14                                            3244502                                           \n",
       "15                                            3156707                                           \n",
       "16                                            2908538                                           \n",
       "17                                            3664999                                           \n",
       "\n",
       "    Expected loss of employment income in next 4-weeks (for self or household member)  \\\n",
       "0                                             2717504                                   \n",
       "1                                             2717504                                   \n",
       "2                                             2795510                                   \n",
       "3                                             2413719                                   \n",
       "4                                             2377693                                   \n",
       "5                                             2164494                                   \n",
       "6                                             1928585                                   \n",
       "7                                             2408408                                   \n",
       "8                                             2251883                                   \n",
       "9                                             2516634                                   \n",
       "10                                            2437449                                   \n",
       "11                                            2315381                                   \n",
       "12                                            1705260                                   \n",
       "13                                            1705174                                   \n",
       "14                                            1592133                                   \n",
       "15                                            1539440                                   \n",
       "16                                            1371932                                   \n",
       "17                                            1798908                                   \n",
       "\n",
       "    Did not report  Week  \n",
       "0            13893     1  \n",
       "1            13893     2  \n",
       "2            41670     3  \n",
       "3            43402     4  \n",
       "4            21630     5  \n",
       "5           115018     6  \n",
       "6            18178     7  \n",
       "7            35592     8  \n",
       "8            34614     9  \n",
       "9            42395    10  \n",
       "10           31248    11  \n",
       "11           23566    12  \n",
       "12           16248    13  \n",
       "13           42591    14  \n",
       "14           57802    15  \n",
       "15           19430    16  \n",
       "16           66018    17  \n",
       "17            5528    18  "
      ]
     },
     "execution_count": 25,
     "metadata": {},
     "output_type": "execute_result"
    }
   ],
   "source": [
    "# df_employment = df_employment.drop('Unnamed: 0',axis=1)\n",
    "df_employment"
   ]
  },
  {
   "cell_type": "code",
   "execution_count": 26,
   "metadata": {},
   "outputs": [],
   "source": [
    "df_employment = df_employment.fillna(0)"
   ]
  },
  {
   "cell_type": "code",
   "execution_count": 28,
   "metadata": {},
   "outputs": [
    {
     "data": {
      "text/html": [
       "<div>\n",
       "<style scoped>\n",
       "    .dataframe tbody tr th:only-of-type {\n",
       "        vertical-align: middle;\n",
       "    }\n",
       "\n",
       "    .dataframe tbody tr th {\n",
       "        vertical-align: top;\n",
       "    }\n",
       "\n",
       "    .dataframe thead th {\n",
       "        text-align: right;\n",
       "    }\n",
       "</style>\n",
       "<table border=\"1\" class=\"dataframe\">\n",
       "  <thead>\n",
       "    <tr style=\"text-align: right;\">\n",
       "      <th></th>\n",
       "      <th>Total</th>\n",
       "      <th>Experienced loss of employment income since March 13, 2020 (for self or household member)</th>\n",
       "      <th>Expected loss of employment income in next 4-weeks (for self or household member)</th>\n",
       "      <th>Did not report</th>\n",
       "    </tr>\n",
       "    <tr>\n",
       "      <th>Week</th>\n",
       "      <th></th>\n",
       "      <th></th>\n",
       "      <th></th>\n",
       "      <th></th>\n",
       "    </tr>\n",
       "  </thead>\n",
       "  <tbody>\n",
       "    <tr>\n",
       "      <th>1</th>\n",
       "      <td>8017566</td>\n",
       "      <td>3558562</td>\n",
       "      <td>2717504</td>\n",
       "      <td>13893</td>\n",
       "    </tr>\n",
       "    <tr>\n",
       "      <th>2</th>\n",
       "      <td>8017566</td>\n",
       "      <td>3558562</td>\n",
       "      <td>2717504</td>\n",
       "      <td>13893</td>\n",
       "    </tr>\n",
       "    <tr>\n",
       "      <th>3</th>\n",
       "      <td>8017566</td>\n",
       "      <td>3721170</td>\n",
       "      <td>2795510</td>\n",
       "      <td>41670</td>\n",
       "    </tr>\n",
       "    <tr>\n",
       "      <th>4</th>\n",
       "      <td>8017566</td>\n",
       "      <td>3542592</td>\n",
       "      <td>2413719</td>\n",
       "      <td>43402</td>\n",
       "    </tr>\n",
       "    <tr>\n",
       "      <th>5</th>\n",
       "      <td>8017566</td>\n",
       "      <td>3598578</td>\n",
       "      <td>2377693</td>\n",
       "      <td>21630</td>\n",
       "    </tr>\n",
       "    <tr>\n",
       "      <th>6</th>\n",
       "      <td>8017566</td>\n",
       "      <td>3391807</td>\n",
       "      <td>2164494</td>\n",
       "      <td>115018</td>\n",
       "    </tr>\n",
       "    <tr>\n",
       "      <th>7</th>\n",
       "      <td>8017566</td>\n",
       "      <td>3390615</td>\n",
       "      <td>1928585</td>\n",
       "      <td>18178</td>\n",
       "    </tr>\n",
       "    <tr>\n",
       "      <th>8</th>\n",
       "      <td>8017566</td>\n",
       "      <td>3776077</td>\n",
       "      <td>2408408</td>\n",
       "      <td>35592</td>\n",
       "    </tr>\n",
       "    <tr>\n",
       "      <th>9</th>\n",
       "      <td>8017566</td>\n",
       "      <td>3520230</td>\n",
       "      <td>2251883</td>\n",
       "      <td>34614</td>\n",
       "    </tr>\n",
       "    <tr>\n",
       "      <th>10</th>\n",
       "      <td>8017566</td>\n",
       "      <td>3832842</td>\n",
       "      <td>2516634</td>\n",
       "      <td>42395</td>\n",
       "    </tr>\n",
       "    <tr>\n",
       "      <th>11</th>\n",
       "      <td>8017566</td>\n",
       "      <td>3412124</td>\n",
       "      <td>2437449</td>\n",
       "      <td>31248</td>\n",
       "    </tr>\n",
       "    <tr>\n",
       "      <th>12</th>\n",
       "      <td>8017566</td>\n",
       "      <td>3659128</td>\n",
       "      <td>2315381</td>\n",
       "      <td>23566</td>\n",
       "    </tr>\n",
       "    <tr>\n",
       "      <th>13</th>\n",
       "      <td>8017566</td>\n",
       "      <td>3330485</td>\n",
       "      <td>1705260</td>\n",
       "      <td>16248</td>\n",
       "    </tr>\n",
       "    <tr>\n",
       "      <th>14</th>\n",
       "      <td>8017566</td>\n",
       "      <td>3428685</td>\n",
       "      <td>1705174</td>\n",
       "      <td>42591</td>\n",
       "    </tr>\n",
       "    <tr>\n",
       "      <th>15</th>\n",
       "      <td>8017566</td>\n",
       "      <td>3244502</td>\n",
       "      <td>1592133</td>\n",
       "      <td>57802</td>\n",
       "    </tr>\n",
       "    <tr>\n",
       "      <th>16</th>\n",
       "      <td>8017566</td>\n",
       "      <td>3156707</td>\n",
       "      <td>1539440</td>\n",
       "      <td>19430</td>\n",
       "    </tr>\n",
       "    <tr>\n",
       "      <th>17</th>\n",
       "      <td>8017566</td>\n",
       "      <td>2908538</td>\n",
       "      <td>1371932</td>\n",
       "      <td>66018</td>\n",
       "    </tr>\n",
       "    <tr>\n",
       "      <th>18</th>\n",
       "      <td>8017566</td>\n",
       "      <td>3664999</td>\n",
       "      <td>1798908</td>\n",
       "      <td>5528</td>\n",
       "    </tr>\n",
       "  </tbody>\n",
       "</table>\n",
       "</div>"
      ],
      "text/plain": [
       "        Total  \\\n",
       "Week            \n",
       "1     8017566   \n",
       "2     8017566   \n",
       "3     8017566   \n",
       "4     8017566   \n",
       "5     8017566   \n",
       "6     8017566   \n",
       "7     8017566   \n",
       "8     8017566   \n",
       "9     8017566   \n",
       "10    8017566   \n",
       "11    8017566   \n",
       "12    8017566   \n",
       "13    8017566   \n",
       "14    8017566   \n",
       "15    8017566   \n",
       "16    8017566   \n",
       "17    8017566   \n",
       "18    8017566   \n",
       "\n",
       "      Experienced loss of employment income since March 13, 2020 (for self or household member)  \\\n",
       "Week                                                                                              \n",
       "1                                               3558562                                           \n",
       "2                                               3558562                                           \n",
       "3                                               3721170                                           \n",
       "4                                               3542592                                           \n",
       "5                                               3598578                                           \n",
       "6                                               3391807                                           \n",
       "7                                               3390615                                           \n",
       "8                                               3776077                                           \n",
       "9                                               3520230                                           \n",
       "10                                              3832842                                           \n",
       "11                                              3412124                                           \n",
       "12                                              3659128                                           \n",
       "13                                              3330485                                           \n",
       "14                                              3428685                                           \n",
       "15                                              3244502                                           \n",
       "16                                              3156707                                           \n",
       "17                                              2908538                                           \n",
       "18                                              3664999                                           \n",
       "\n",
       "      Expected loss of employment income in next 4-weeks (for self or household member)  \\\n",
       "Week                                                                                      \n",
       "1                                               2717504                                   \n",
       "2                                               2717504                                   \n",
       "3                                               2795510                                   \n",
       "4                                               2413719                                   \n",
       "5                                               2377693                                   \n",
       "6                                               2164494                                   \n",
       "7                                               1928585                                   \n",
       "8                                               2408408                                   \n",
       "9                                               2251883                                   \n",
       "10                                              2516634                                   \n",
       "11                                              2437449                                   \n",
       "12                                              2315381                                   \n",
       "13                                              1705260                                   \n",
       "14                                              1705174                                   \n",
       "15                                              1592133                                   \n",
       "16                                              1539440                                   \n",
       "17                                              1371932                                   \n",
       "18                                              1798908                                   \n",
       "\n",
       "      Did not report  \n",
       "Week                  \n",
       "1              13893  \n",
       "2              13893  \n",
       "3              41670  \n",
       "4              43402  \n",
       "5              21630  \n",
       "6             115018  \n",
       "7              18178  \n",
       "8              35592  \n",
       "9              34614  \n",
       "10             42395  \n",
       "11             31248  \n",
       "12             23566  \n",
       "13             16248  \n",
       "14             42591  \n",
       "15             57802  \n",
       "16             19430  \n",
       "17             66018  \n",
       "18              5528  "
      ]
     },
     "execution_count": 28,
     "metadata": {},
     "output_type": "execute_result"
    }
   ],
   "source": [
    "df_employment.set_index('Week')"
   ]
  },
  {
   "cell_type": "code",
   "execution_count": 30,
   "metadata": {},
   "outputs": [
    {
     "data": {
      "text/plain": [
       "<matplotlib.legend.Legend at 0x117abf0d0>"
      ]
     },
     "execution_count": 30,
     "metadata": {},
     "output_type": "execute_result"
    },
    {
     "data": {
      "image/png": "[encoded data removed]",
      "text/plain": [
       "<Figure size 432x288 with 1 Axes>"
      ]
     },
     "metadata": {},
     "output_type": "display_data"
    }
   ],
   "source": [
    "style.use('ggplot')\n",
    "plt.plot(df_employment['Week'],df_employment['Experienced loss of employment income since March 13, 2020 (for self or household member)'], label='Experienced loss of employment income')\n",
    "plt.xticks(range(1,19))\n",
    "plt.xlabel('Week Number')\n",
    "plt.grid(True)\n",
    "plt.ylabel('% Experienced loss of employment income')\n",
    "plt.title('Effect of COVID-19 on loss of Employment Income')\n",
    "plt.legend()"
   ]
  },
  {
   "cell_type": "markdown",
   "metadata": {},
   "source": [
    "Observations:\n",
    "    With the first wave of COVID-19 hitting NC state the week 8, 10, 12 and 18 experienced the immediate effect on Employment.\n",
    "    "
   ]
  },
  {
   "cell_type": "code",
   "execution_count": 31,
   "metadata": {},
   "outputs": [
    {
     "data": {
      "text/plain": [
       "Text(0.5, 1.0, 'Effect of COVID-19 on Expected loss of employment income in next 4-weeks')"
      ]
     },
     "execution_count": 31,
     "metadata": {},
     "output_type": "execute_result"
    },
    {
     "data": {
      "image/png": "[encoded data removed]",
      "text/plain": [
       "<Figure size 432x288 with 1 Axes>"
      ]
     },
     "metadata": {},
     "output_type": "display_data"
    }
   ],
   "source": [
    "style.use('ggplot')\n",
    "plt.plot(df_employment['Week'],df_employment['Expected loss of employment income in next 4-weeks (for self or household member)'])\n",
    "plt.xticks(range(1,19))\n",
    "plt.xlabel('Week Number')\n",
    "plt.grid(True)\n",
    "plt.ylabel('% Expected loss of employment income')\n",
    "plt.title('Effect of COVID-19 on Expected loss of employment income in next 4-weeks')"
   ]
  },
  {
   "cell_type": "markdown",
   "metadata": {},
   "source": [
    "Observations:\n",
    "    With the uncertainity around COVID-19 symptoms and its infection in the earlier days of March 2020, it took 7 weeks for Employees in NC state to admit that this might effect their employment in future.\n"
   ]
  },
  {
   "cell_type": "code",
   "execution_count": 32,
   "metadata": {},
   "outputs": [
    {
     "data": {
      "text/plain": [
       "Text(0.5, 1.0, 'Effect of COVID-19')"
      ]
     },
     "execution_count": 32,
     "metadata": {},
     "output_type": "execute_result"
    },
    {
     "data": {
      "image/png": "[encoded data removed]",
      "text/plain": [
       "<Figure size 432x288 with 1 Axes>"
      ]
     },
     "metadata": {},
     "output_type": "display_data"
    }
   ],
   "source": [
    "style.use('ggplot')\n",
    "plt.plot(df_employment['Week'],df_employment['Did not report'])\n",
    "plt.xticks(range(1,19))\n",
    "plt.xlabel('Week Number')\n",
    "plt.grid(True)\n",
    "plt.ylabel('% Did not report their employment status')\n",
    "plt.title('Effect of COVID-19')"
   ]
  },
  {
   "cell_type": "code",
   "execution_count": null,
   "metadata": {},
   "outputs": [],
   "source": [
    "Observations:"
   ]
  },
  {
   "cell_type": "code",
   "execution_count": 35,
   "metadata": {},
   "outputs": [
    {
     "data": {
      "text/plain": [
       "<matplotlib.legend.Legend at 0x1177e95e0>"
      ]
     },
     "execution_count": 35,
     "metadata": {},
     "output_type": "execute_result"
    },
    {
     "data": {
      "image/png": "[encoded data removed]",
      "text/plain": [
       "<Figure size 432x288 with 1 Axes>"
      ]
     },
     "metadata": {},
     "output_type": "display_data"
    }
   ],
   "source": [
    "style.use('ggplot')\n",
    "plt.plot(df_employment['Week'],df_employment['Experienced loss of employment income since March 13, 2020 (for self or household member)'],label='Experienced loss of employment income')\n",
    "plt.plot(df_employment['Week'],df_employment['Expected loss of employment income in next 4-weeks (for self or household member)'],label='Expected loss of employment income')\n",
    "plt.plot(df_employment['Week'],df_employment['Did not report'],label='Not shared')\n",
    "plt.xticks(range(1,19))\n",
    "plt.xlabel('Week Number')\n",
    "plt.grid(True)\n",
    "plt.ylabel('%')\n",
    "plt.title('Effect of COVID-19 on Employment Oppurtunities')\n",
    "plt.legend()"
   ]
  },
  {
   "cell_type": "markdown",
   "metadata": {},
   "source": [
    "Observations:\n",
    "    At the begening of week 17(aprox 4 months) the percentage of people losing their jobs and expected to lose their jobs in future seems to rise constantly."
   ]
  }
 ],
 "metadata": {
  "kernelspec": {
   "display_name": "Python 3",
   "language": "python",
   "name": "python3"
  },
  "language_info": {
   "codemirror_mode": {
    "name": "ipython",
    "version": 3
   },
   "file_extension": ".py",
   "mimetype": "text/x-python",
   "name": "python",
   "nbconvert_exporter": "python",
   "pygments_lexer": "ipython3",
   "version": "3.8.3"
  }
 },
 "nbformat": 4,
 "nbformat_minor": 4
}

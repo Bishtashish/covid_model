{
 "cells": [
  {
   "cell_type": "code",
   "execution_count": 2,
   "metadata": {},
   "outputs": [
    {
     "name": "stdout",
     "output_type": "stream",
     "text": [
      "['//www2.census.gov/programs-surveys/demo/tables/hhp/2020/wk13/health4_week13.xlsx', '//www2.census.gov/programs-surveys/demo/tables/hhp/2020/wk14/health4_week14.xlsx', '//www2.census.gov/programs-surveys/demo/tables/hhp/2020/wk15/health4_week15.xlsx', '//www2.census.gov/programs-surveys/demo/tables/hhp/2020/wk16/health4_week16.xlsx', '//www2.census.gov/programs-surveys/demo/tables/hhp/2020/wk17/health4_week17.xlsx', '//www2.census.gov/programs-surveys/demo/tables/hhp/2020/wk18/health4_week18.xlsx']\n"
     ]
    }
   ],
   "source": [
    "from bs4 import BeautifulSoup\n",
    "import requests\n",
    "\n",
    "\n",
    "# downloading files for impact_on_post_secondary_education_plan\n",
    "files_to_download = []        \n",
    "for i in range(18):\n",
    "    url = 'https://www.census.gov/data/tables/2020/demo/hhp/hhp'+str(i+1)+'.html'\n",
    "    #print(url)\n",
    "    html_text = requests.get(url).text\n",
    "    soup = BeautifulSoup(html_text,'lxml')\n",
    "    anchors = soup.find_all('a', {'class': 'uscb-layout-align-start-start', 'href': True})\n",
    "    for anchor in anchors:\n",
    "        if(anchor['href'].find('health4_week')>-1 and anchor['href'].find('educ6_se')==-1):\n",
    "            files_to_download.append(anchor['href'])\n",
    "\n",
    "\n",
    "print(files_to_download)"
   ]
  },
  {
   "cell_type": "code",
   "execution_count": 4,
   "metadata": {},
   "outputs": [],
   "source": [
    "base_path = 'C:\\\\Users\\\\salma\\\\Downloads\\\\KDD-D2\\\\'\n",
    "\n",
    "for file_path in files_to_download:\n",
    "    dls = 'http:'+file_path\n",
    "    file_name = file_path.split('/')\n",
    "    output_file_path = base_path + file_name[9]\n",
    "    resp = requests.get(dls)\n",
    "    output = open(output_file_path, 'wb')\n",
    "    output.write(resp.content)\n",
    "    output.close()"
   ]
  },
  {
   "cell_type": "code",
   "execution_count": null,
   "metadata": {},
   "outputs": [],
   "source": []
  }
 ],
 "metadata": {
  "kernelspec": {
   "display_name": "Python 3",
   "language": "python",
   "name": "python3"
  },
  "language_info": {
   "codemirror_mode": {
    "name": "ipython",
    "version": 3
   },
   "file_extension": ".py",
   "mimetype": "text/x-python",
   "name": "python",
   "nbconvert_exporter": "python",
   "pygments_lexer": "ipython3",
   "version": "3.7.4"
  }
 },
 "nbformat": 4,
 "nbformat_minor": 2
}
